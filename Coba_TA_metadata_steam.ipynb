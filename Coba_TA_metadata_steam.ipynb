{
  "nbformat": 4,
  "nbformat_minor": 0,
  "metadata": {
    "colab": {
      "provenance": [],
      "authorship_tag": "ABX9TyN6Zu340wsfJuZNgdhChrek",
      "include_colab_link": true
    },
    "kernelspec": {
      "name": "python3",
      "display_name": "Python 3"
    },
    "language_info": {
      "name": "python"
    }
  },
  "cells": [
    {
      "cell_type": "markdown",
      "metadata": {
        "id": "view-in-github",
        "colab_type": "text"
      },
      "source": [
        "<a href=\"https://colab.research.google.com/github/annisaizzatullatifa/Goodplant-Massive-Challenge/blob/main/Coba_TA_metadata_steam.ipynb\" target=\"_parent\"><img src=\"https://colab.research.google.com/assets/colab-badge.svg\" alt=\"Open In Colab\"/></a>"
      ]
    },
    {
      "cell_type": "code",
      "execution_count": 3,
      "metadata": {
        "colab": {
          "base_uri": "https://localhost:8080/"
        },
        "id": "B6C1MybeIXWP",
        "outputId": "b799b17a-c0ba-4f87-d4dc-efd0e98df233"
      },
      "outputs": [
        {
          "output_type": "stream",
          "name": "stdout",
          "text": [
            "Drive already mounted at /content/drive; to attempt to forcibly remount, call drive.mount(\"/content/drive\", force_remount=True).\n",
            "   appid                       name         developer publisher  \\\n",
            "0     10             Counter-Strike             Valve     Valve   \n",
            "1     20      Team Fortress Classic             Valve     Valve   \n",
            "2     30              Day of Defeat             Valve     Valve   \n",
            "3     40         Deathmatch Classic             Valve     Valve   \n",
            "4     50  Half-Life: Opposing Force  Gearbox Software     Valve   \n",
            "\n",
            "                                          categories  genres  \n",
            "0  Multi-player;Online Multi-Player;Local Multi-P...  Action  \n",
            "1  Multi-player;Online Multi-Player;Local Multi-P...  Action  \n",
            "2              Multi-player;Valve Anti-Cheat enabled  Action  \n",
            "3  Multi-player;Online Multi-Player;Local Multi-P...  Action  \n",
            "4  Single-player;Multi-player;Valve Anti-Cheat en...  Action  \n"
          ]
        }
      ],
      "source": [
        "from google.colab import drive\n",
        "import pandas as pd\n",
        "import numpy as np\n",
        "from sklearn.feature_extraction.text import CountVectorizer\n",
        "from sklearn.preprocessing import OneHotEncoder\n",
        "from sklearn.metrics.pairwise import cosine_similarity\n",
        "\n",
        "# Mount Google Drive\n",
        "drive.mount('/content/drive')\n",
        "\n",
        "# Path ke file dataset di Google Drive (ubah sesuai lokasi penyimpanan)\n",
        "file_path = \"/content/drive/My Drive/datasetTA/datasetFinal/cleaned_steam_metadata.csv\"\n",
        "\n",
        "# Load dataset\n",
        "df = pd.read_csv(file_path)\n",
        "\n",
        "# Cek data\n",
        "print(df.head())\n"
      ]
    },
    {
      "source": [
        "# Isi nilai NaN\n",
        "df[\"developer\"].fillna(\"Unknown\", inplace=True)\n",
        "df[\"publisher\"].fillna(\"Unknown\", inplace=True)\n",
        "df[\"categories\"].fillna(\"None\", inplace=True)\n",
        "df[\"genres\"].fillna(\"None\", inplace=True)\n",
        "\n",
        "# One-Hot Encoding developer & publisher\n",
        "encoder = OneHotEncoder(sparse_output=False, handle_unknown=\"ignore\")\n",
        "developer_ohe = encoder.fit_transform(df[[\"developer\"]])\n",
        "developer_df = pd.DataFrame(developer_ohe, columns=encoder.get_feature_names_out([\"developer\"]), index=df.index)\n",
        "\n",
        "encoder_publisher = OneHotEncoder(sparse_output=False, handle_unknown=\"ignore\")\n",
        "publisher_ohe = encoder_publisher.fit_transform(df[[\"publisher\"]])\n",
        "publisher_df = pd.DataFrame(publisher_ohe, columns=encoder_publisher.get_feature_names_out([\"publisher\"]), index=df.index)\n",
        "\n",
        "# CountVectorizer untuk categories & genres\n",
        "vectorizer_categories = CountVectorizer()\n",
        "categories_bow = vectorizer_categories.fit_transform(df[\"categories\"]).toarray()\n",
        "categories_df = pd.DataFrame(categories_bow, columns=vectorizer_categories.get_feature_names_out(), index=df.index)\n",
        "\n",
        "vectorizer_genres = CountVectorizer()\n",
        "genres_bow = vectorizer_genres.fit_transform(df[\"genres\"]).toarray()\n",
        "genres_df = pd.DataFrame(genres_bow, columns=vectorizer_genres.get_feature_names_out(), index=df.index)\n",
        "\n",
        "# Gabungkan semua fitur menjadi satu DataFrame\n",
        "final_features = pd.concat([developer_df, publisher_df, categories_df, genres_df], axis=1)\n",
        "\n",
        "print(f\"Shape of feature matrix: {final_features.shape}\")  # Harus sesuai dengan df.shape[0]\n"
      ],
      "cell_type": "code",
      "metadata": {
        "colab": {
          "base_uri": "https://localhost:8080/"
        },
        "id": "dA1fPyajPIWO",
        "outputId": "b463bc34-0b84-4d02-9abf-f03c6b165c84"
      },
      "execution_count": 31,
      "outputs": [
        {
          "output_type": "stream",
          "name": "stderr",
          "text": [
            "<ipython-input-31-57b6f66d24bf>:2: FutureWarning: A value is trying to be set on a copy of a DataFrame or Series through chained assignment using an inplace method.\n",
            "The behavior will change in pandas 3.0. This inplace method will never work because the intermediate object on which we are setting values always behaves as a copy.\n",
            "\n",
            "For example, when doing 'df[col].method(value, inplace=True)', try using 'df.method({col: value}, inplace=True)' or df[col] = df[col].method(value) instead, to perform the operation inplace on the original object.\n",
            "\n",
            "\n",
            "  df[\"developer\"].fillna(\"Unknown\", inplace=True)\n",
            "<ipython-input-31-57b6f66d24bf>:3: FutureWarning: A value is trying to be set on a copy of a DataFrame or Series through chained assignment using an inplace method.\n",
            "The behavior will change in pandas 3.0. This inplace method will never work because the intermediate object on which we are setting values always behaves as a copy.\n",
            "\n",
            "For example, when doing 'df[col].method(value, inplace=True)', try using 'df.method({col: value}, inplace=True)' or df[col] = df[col].method(value) instead, to perform the operation inplace on the original object.\n",
            "\n",
            "\n",
            "  df[\"publisher\"].fillna(\"Unknown\", inplace=True)\n",
            "<ipython-input-31-57b6f66d24bf>:4: FutureWarning: A value is trying to be set on a copy of a DataFrame or Series through chained assignment using an inplace method.\n",
            "The behavior will change in pandas 3.0. This inplace method will never work because the intermediate object on which we are setting values always behaves as a copy.\n",
            "\n",
            "For example, when doing 'df[col].method(value, inplace=True)', try using 'df.method({col: value}, inplace=True)' or df[col] = df[col].method(value) instead, to perform the operation inplace on the original object.\n",
            "\n",
            "\n",
            "  df[\"categories\"].fillna(\"None\", inplace=True)\n",
            "<ipython-input-31-57b6f66d24bf>:5: FutureWarning: A value is trying to be set on a copy of a DataFrame or Series through chained assignment using an inplace method.\n",
            "The behavior will change in pandas 3.0. This inplace method will never work because the intermediate object on which we are setting values always behaves as a copy.\n",
            "\n",
            "For example, when doing 'df[col].method(value, inplace=True)', try using 'df.method({col: value}, inplace=True)' or df[col] = df[col].method(value) instead, to perform the operation inplace on the original object.\n",
            "\n",
            "\n",
            "  df[\"genres\"].fillna(\"None\", inplace=True)\n"
          ]
        },
        {
          "output_type": "stream",
          "name": "stdout",
          "text": [
            "Shape of feature matrix: (5298, 6143)\n"
          ]
        }
      ]
    },
    {
      "cell_type": "code",
      "source": [
        "missing_games = set(df.index) - set(final_features.index)\n",
        "print(\"Jumlah game yang hilang:\", len(missing_games))\n",
        "print(missing_games)\n"
      ],
      "metadata": {
        "colab": {
          "base_uri": "https://localhost:8080/"
        },
        "id": "acsHTrRBdUHF",
        "outputId": "3969b5c7-fc03-471a-ed46-5b2bea183eaa"
      },
      "execution_count": 32,
      "outputs": [
        {
          "output_type": "stream",
          "name": "stdout",
          "text": [
            "Jumlah game yang hilang: 0\n",
            "set()\n"
          ]
        }
      ]
    },
    {
      "cell_type": "code",
      "source": [
        "# Hitung jumlah fitur dari setiap encoding\n",
        "num_dev_features = developer_df.shape[1]  # Jumlah kolom dari One-Hot Encoding developer\n",
        "num_pub_features = publisher_df.shape[1]  # Jumlah kolom dari One-Hot Encoding publisher\n",
        "num_cat_features = categories_df.shape[1]  # Jumlah kolom dari Bag of Words categories\n",
        "num_gen_features = genres_df.shape[1]  # Jumlah kolom dari Bag of Words genres\n",
        "\n",
        "# Hitung total fitur yang diharapkan\n",
        "total_expected_features = num_dev_features + num_pub_features + num_cat_features + num_gen_features\n",
        "\n",
        "# Cetak hasilnya\n",
        "print(f\"Developer features: {num_dev_features}\")\n",
        "print(f\"Publisher features: {num_pub_features}\")\n",
        "print(f\"Categories features: {num_cat_features}\")\n",
        "print(f\"Genres features: {num_gen_features}\")\n",
        "print(f\"Total expected features: {total_expected_features}\")\n",
        "\n",
        "# Pastikan sesuai dengan final_features.shape\n",
        "assert final_features.shape[1] == total_expected_features, \"Jumlah fitur tidak sesuai!\"\n",
        "print(f\"✅ Shape final_features: {final_features.shape}, sesuai dengan perhitungan.\")\n"
      ],
      "metadata": {
        "colab": {
          "base_uri": "https://localhost:8080/"
        },
        "id": "H1dPeGC0TLaI",
        "outputId": "59652db0-3402-403f-af27-575d49d20738"
      },
      "execution_count": 33,
      "outputs": [
        {
          "output_type": "stream",
          "name": "stdout",
          "text": [
            "Developer features: 3518\n",
            "Publisher features: 2540\n",
            "Categories features: 47\n",
            "Genres features: 38\n",
            "Total expected features: 6143\n",
            "✅ Shape final_features: (5298, 6143), sesuai dengan perhitungan.\n"
          ]
        }
      ]
    },
    {
      "cell_type": "code",
      "source": [
        "print(final_features.isna().sum().sum())  # Harusnya hasilnya 0\n"
      ],
      "metadata": {
        "colab": {
          "base_uri": "https://localhost:8080/"
        },
        "id": "Zf9aCC4UeMj7",
        "outputId": "d96ca7b6-d9ca-40ff-dd73-7a21687ae60d"
      },
      "execution_count": 34,
      "outputs": [
        {
          "output_type": "stream",
          "name": "stdout",
          "text": [
            "0\n"
          ]
        }
      ]
    },
    {
      "cell_type": "code",
      "source": [
        "print(final_features.describe())  # Untuk melihat range nilai tiap fitur\n"
      ],
      "metadata": {
        "colab": {
          "base_uri": "https://localhost:8080/"
        },
        "id": "hsy6tSQYeO1p",
        "outputId": "8e9d6f32-9309-4774-e586-6336bb3c9586"
      },
      "execution_count": 35,
      "outputs": [
        {
          "output_type": "stream",
          "name": "stdout",
          "text": [
            "       developer_07th Expansion  developer_100 Stones Interactive  \\\n",
            "count               5298.000000                       5298.000000   \n",
            "mean                   0.000944                          0.000189   \n",
            "std                    0.030709                          0.013739   \n",
            "min                    0.000000                          0.000000   \n",
            "25%                    0.000000                          0.000000   \n",
            "50%                    0.000000                          0.000000   \n",
            "75%                    0.000000                          0.000000   \n",
            "max                    1.000000                          1.000000   \n",
            "\n",
            "       developer_10Ants Hill  developer_10th Art Studio  developer_10tons Ltd  \\\n",
            "count            5298.000000                5298.000000           5298.000000   \n",
            "mean                0.000189                   0.000189              0.000378   \n",
            "std                 0.013739                   0.013739              0.019428   \n",
            "min                 0.000000                   0.000000              0.000000   \n",
            "25%                 0.000000                   0.000000              0.000000   \n",
            "50%                 0.000000                   0.000000              0.000000   \n",
            "75%                 0.000000                   0.000000              0.000000   \n",
            "max                 1.000000                   1.000000              1.000000   \n",
            "\n",
            "       developer_11 bit studios  developer_1337 & Senri AB  \\\n",
            "count               5298.000000                5298.000000   \n",
            "mean                   0.001133                   0.000189   \n",
            "std                    0.033637                   0.013739   \n",
            "min                    0.000000                   0.000000   \n",
            "25%                    0.000000                   0.000000   \n",
            "50%                    0.000000                   0.000000   \n",
            "75%                    0.000000                   0.000000   \n",
            "max                    1.000000                   1.000000   \n",
            "\n",
            "       developer_14° East  developer_16bit Nights  developer_17-BIT  ...  \\\n",
            "count         5298.000000             5298.000000       5298.000000  ...   \n",
            "mean             0.000189                0.000378          0.000378  ...   \n",
            "std              0.013739                0.019428          0.019428  ...   \n",
            "min              0.000000                0.000000          0.000000  ...   \n",
            "25%              0.000000                0.000000          0.000000  ...   \n",
            "50%              0.000000                0.000000          0.000000  ...   \n",
            "75%              0.000000                0.000000          0.000000  ...   \n",
            "max              1.000000                1.000000          1.000000  ...   \n",
            "\n",
            "        simulation     software       sports     strategy           to  \\\n",
            "count  5298.000000  5298.000000  5298.000000  5298.000000  5298.000000   \n",
            "mean      0.179124     0.001133     0.036429     0.229332     0.078898   \n",
            "std       0.383492     0.033637     0.187372     0.420443     0.269604   \n",
            "min       0.000000     0.000000     0.000000     0.000000     0.000000   \n",
            "25%       0.000000     0.000000     0.000000     0.000000     0.000000   \n",
            "50%       0.000000     0.000000     0.000000     0.000000     0.000000   \n",
            "75%       0.000000     0.000000     0.000000     0.000000     0.000000   \n",
            "max       1.000000     1.000000     1.000000     1.000000     1.000000   \n",
            "\n",
            "          training    utilities        video      violent          web  \n",
            "count  5298.000000  5298.000000  5298.000000  5298.000000  5298.000000  \n",
            "mean      0.001133     0.005096     0.001133     0.007361     0.002076  \n",
            "std       0.033637     0.071213     0.033637     0.085490     0.045523  \n",
            "min       0.000000     0.000000     0.000000     0.000000     0.000000  \n",
            "25%       0.000000     0.000000     0.000000     0.000000     0.000000  \n",
            "50%       0.000000     0.000000     0.000000     0.000000     0.000000  \n",
            "75%       0.000000     0.000000     0.000000     0.000000     0.000000  \n",
            "max       1.000000     1.000000     1.000000     1.000000     1.000000  \n",
            "\n",
            "[8 rows x 6143 columns]\n"
          ]
        }
      ]
    },
    {
      "cell_type": "code",
      "source": [
        "sparsity = 1.0 - (final_features.astype(bool).sum().sum() / final_features.size)\n",
        "print(f\"Sparsity: {sparsity:.4f}\")  # Jika terlalu sparse (> 90%), pertimbangkan reduksi dimensi\n"
      ],
      "metadata": {
        "colab": {
          "base_uri": "https://localhost:8080/"
        },
        "id": "cNDXc5K1eUSo",
        "outputId": "031cafbd-d587-40d8-cc42-f792f24ebcac"
      },
      "execution_count": 36,
      "outputs": [
        {
          "output_type": "stream",
          "name": "stdout",
          "text": [
            "Sparsity: 0.9979\n"
          ]
        }
      ]
    },
    {
      "cell_type": "code",
      "source": [
        "# Simpan hasil rekomendasi sebelum perubahan fitur\n",
        "previous_recommendations = model.predict(previous_features)\n",
        "\n",
        "# Jalankan model dengan fitur baru\n",
        "new_recommendations = model.predict(final_features)\n",
        "\n",
        "# Pastikan model tidak error dan output sesuai format\n",
        "assert len(new_recommendations) == len(previous_recommendations), \"Jumlah rekomendasi berubah!\"\n"
      ],
      "metadata": {
        "colab": {
          "base_uri": "https://localhost:8080/",
          "height": 218
        },
        "id": "nBr3dQqaebVZ",
        "outputId": "daf3aa4e-b2d7-4cc5-b839-4d05d19d9765"
      },
      "execution_count": 38,
      "outputs": [
        {
          "output_type": "error",
          "ename": "NameError",
          "evalue": "name 'model' is not defined",
          "traceback": [
            "\u001b[0;31m---------------------------------------------------------------------------\u001b[0m",
            "\u001b[0;31mNameError\u001b[0m                                 Traceback (most recent call last)",
            "\u001b[0;32m<ipython-input-38-41982f1d164a>\u001b[0m in \u001b[0;36m<cell line: 0>\u001b[0;34m()\u001b[0m\n\u001b[1;32m      1\u001b[0m \u001b[0;31m# Simpan hasil rekomendasi sebelum perubahan fitur\u001b[0m\u001b[0;34m\u001b[0m\u001b[0;34m\u001b[0m\u001b[0m\n\u001b[0;32m----> 2\u001b[0;31m \u001b[0mprevious_recommendations\u001b[0m \u001b[0;34m=\u001b[0m \u001b[0mmodel\u001b[0m\u001b[0;34m.\u001b[0m\u001b[0mpredict\u001b[0m\u001b[0;34m(\u001b[0m\u001b[0mprevious_features\u001b[0m\u001b[0;34m)\u001b[0m\u001b[0;34m\u001b[0m\u001b[0;34m\u001b[0m\u001b[0m\n\u001b[0m\u001b[1;32m      3\u001b[0m \u001b[0;34m\u001b[0m\u001b[0m\n\u001b[1;32m      4\u001b[0m \u001b[0;31m# Jalankan model dengan fitur baru\u001b[0m\u001b[0;34m\u001b[0m\u001b[0;34m\u001b[0m\u001b[0m\n\u001b[1;32m      5\u001b[0m \u001b[0mnew_recommendations\u001b[0m \u001b[0;34m=\u001b[0m \u001b[0mmodel\u001b[0m\u001b[0;34m.\u001b[0m\u001b[0mpredict\u001b[0m\u001b[0;34m(\u001b[0m\u001b[0mfinal_features\u001b[0m\u001b[0;34m)\u001b[0m\u001b[0;34m\u001b[0m\u001b[0;34m\u001b[0m\u001b[0m\n",
            "\u001b[0;31mNameError\u001b[0m: name 'model' is not defined"
          ]
        }
      ]
    },
    {
      "cell_type": "code",
      "source": [
        "# 1. Mengisi nilai kosong dengan \"Unknown\"\n",
        "df[\"publisher\"].fillna(\"Unknown\", inplace=True)\n",
        "df[\"developer\"].fillna(\"Unknown\", inplace=True)\n",
        "\n",
        "# 2. Menghapus karakter whitespace atau tab yang tidak perlu\n",
        "df[\"publisher\"] = df[\"publisher\"].str.strip()\n",
        "df[\"developer\"] = df[\"developer\"].str.strip()\n",
        "\n",
        "# 3. Memisahkan nilai yang memiliki beberapa developer/publisher\n",
        "df = df.assign(developer=df[\"developer\"].str.split(\";\")).explode(\"developer\")\n",
        "df = df.assign(publisher=df[\"publisher\"].str.split(\";\")).explode(\"publisher\")\n",
        "\n",
        "# 4. Memastikan semua string terbaca dengan baik\n",
        "df[\"developer\"] = df[\"developer\"].astype(str)\n",
        "df[\"publisher\"] = df[\"publisher\"].astype(str)\n"
      ],
      "metadata": {
        "colab": {
          "base_uri": "https://localhost:8080/"
        },
        "id": "iGWN5H0bYYDD",
        "outputId": "7987c7fb-b1a2-4491-c54c-c722c105d7e9"
      },
      "execution_count": 22,
      "outputs": [
        {
          "output_type": "stream",
          "name": "stderr",
          "text": [
            "<ipython-input-22-7de16a6927d1>:2: FutureWarning: A value is trying to be set on a copy of a DataFrame or Series through chained assignment using an inplace method.\n",
            "The behavior will change in pandas 3.0. This inplace method will never work because the intermediate object on which we are setting values always behaves as a copy.\n",
            "\n",
            "For example, when doing 'df[col].method(value, inplace=True)', try using 'df.method({col: value}, inplace=True)' or df[col] = df[col].method(value) instead, to perform the operation inplace on the original object.\n",
            "\n",
            "\n",
            "  df[\"publisher\"].fillna(\"Unknown\", inplace=True)\n",
            "<ipython-input-22-7de16a6927d1>:3: FutureWarning: A value is trying to be set on a copy of a DataFrame or Series through chained assignment using an inplace method.\n",
            "The behavior will change in pandas 3.0. This inplace method will never work because the intermediate object on which we are setting values always behaves as a copy.\n",
            "\n",
            "For example, when doing 'df[col].method(value, inplace=True)', try using 'df.method({col: value}, inplace=True)' or df[col] = df[col].method(value) instead, to perform the operation inplace on the original object.\n",
            "\n",
            "\n",
            "  df[\"developer\"].fillna(\"Unknown\", inplace=True)\n"
          ]
        }
      ]
    },
    {
      "cell_type": "code",
      "source": [
        "print(f\"Ukuran df: {df.shape}\")  # Berapa total game dalam df\n",
        "print(f\"Ukuran final_features: {final_features.shape}\")  # Berapa banyak game yang masuk ke cosine similarity\n",
        "print(f\"Ukuran cosine_sim: {cosine_sim.shape}\")  # Harus (N x N) dengan N sesuai jumlah game yang diproses\n"
      ],
      "metadata": {
        "colab": {
          "base_uri": "https://localhost:8080/"
        },
        "id": "HZy9KVqWZqwE",
        "outputId": "588438a5-6673-4b40-850f-186345087309"
      },
      "execution_count": 24,
      "outputs": [
        {
          "output_type": "stream",
          "name": "stdout",
          "text": [
            "Ukuran df: (6378, 6)\n",
            "Ukuran final_features: (5299, 6398)\n",
            "Ukuran cosine_sim: (5299, 5299)\n"
          ]
        }
      ]
    },
    {
      "cell_type": "code",
      "source": [
        "print(\"Game dalam df tetapi tidak dalam final_features:\")\n",
        "print(set(df[\"name\"]) - set(df.iloc[:final_features.shape[0]][\"name\"]))\n"
      ],
      "metadata": {
        "colab": {
          "base_uri": "https://localhost:8080/"
        },
        "id": "gL2ASt8jZt-S",
        "outputId": "13a99866-fbf8-4f8e-ce6e-4f70a86035a8"
      },
      "execution_count": 25,
      "outputs": [
        {
          "output_type": "stream",
          "name": "stdout",
          "text": [
            "Game dalam df tetapi tidak dalam final_features:\n",
            "{'Mini Thief', 'The Brookhaven Experiment', 'Zombo Buster Rising', 'Settled', 'SkyTime', 'The Housewife', \"神明的一天世界(God's One Day World)\", 'Darconika: The Cube of Soul', 'BLUE REVOLVER', 'Frog Climbers', 'Big Bang Empire', 'Zombie Defense', 'iGrow Game', 'Starr Mazer: DSP', 'ORCS', 'Experience', 'Iron Impact', 'Demolish & Build 2017', 'Existentia', 'Pub Encounter', 'The Body VR: Journey Inside a Cell', 'Tricky Towers', 'ROD: Revolt Of Defense', 'Table Top Racing: World Tour', 'Shot Shot Tactic', 'Airport Madness 3D', 'Final Quest II', 'HACK_IT', 'Blameless', 'Squeezone', 'We Know the Devil', 'What The Box?', 'Eleven: Table Tennis VR', 'Job Simulator', 'Woodle Tree 2: Worlds', 'Sparkle ZERO', 'AdVenture Communist', 'The Narrator Is a DICK', 'Invisible Mind', 'Gone In November', 'Island 359™', 'Star Drifter', 'Zombillie', 'Senza Peso', 'Pirate Pop Plus', 'Age of Cavemen', 'Atonement 2: Ruptured by Despair', 'Firebird - La Peri', \"Alice's Patchworks 2\", \"A Detective's Novel\", 'Z.I.O.N.', 'The Nest', 'Lara Croft GO', 'Raw Data', 'Corona Blossom Vol.2 The Truth From Beyond', 'Eventide 2: The Sorcerers Mirror', 'Bottle', 'Overhell', 'Amigdala', 'Eador. Imperium', 'Envy the Dead', 'Smash Up: Conquer the bases with your factions', 'UBERMOSH:BLACK', 'This Is the Police', 'Soccer Manager 2017', 'Governor of Poker 3', 'Sorcerer King: Rivals', 'Judgment: Apocalypse Survival Simulation', 'Space Pilgrim Episode IV: Sol', 'Power & Revolution', 'The NADI Project', 'Transport Fever', 'Optika', 'Neon Space 2', 'Make America Great Again: The Trump Presidency', 'Kittypocalypse', 'Awkward Dimensions Redux', 'Inexistence', 'INTERSHELTER', 'Counter Fight', 'Another Brick in The Mall', 'Angeldust', 'Political Animals', 'Dungeon Rats', \"Don't Disturb\", \"Heart's Medicine - Time to Heal\", 'Tales of Destruction', 'Abandoned Knight', 'Artificial Defense', 'Cthulhu Realms', '8-Bit Hordes', 'Go Mission: Space Travel', 'Crown and Council', 'World of Tanks Blitz MMO', 'The Last Sniper VR', 'ISLANDS: Non-Places', 'VOI', 'Fabric', 'SENRAN KAGURA Bon Appétit! - Full Course', 'Killbot', 'EeOneGuy Adventure', 'Cranks and Goggles', 'Freebie', 'Skeet: VR Target Shooting', 'Cursed Castilla (Maldita Castilla EX)', 'Death Stair', 'Remaining in a dream', 'The Lords of the Earth Flame', 'Chess Knight 2', 'EmergeNYC', 'Phantasmagoria', 'Evil Maze', 'Zasa - An AI Story', 'Planar Conquest', 'White Noise 2', 'Dig 4 Destruction', 'Bloons TD Battles', 'Atomik: RunGunJumpGun', 'Escape the Game', 'Kings and Heroes', 'Human: Fall Flat', 'Doorways: Old Prototype', \"Mythic Wonders: The Philosopher's Stone\", 'Hardware Engineers', 'MSI Electric City', 'Rabiez: Epidemic', 'Conception II: Children of the Seven Stars', \"Acan's Call: Act 1\", 'Son of a Witch', '12 orbits', 'Hide and Shriek', 'Atom Fishing II', 'Higurashi When They Cry Hou - Ch.4 Himatsubushi', 'Line of Sight', 'Wheels of Aurelia', 'MANDAGON', 'Cuties', 'Merlin adventurer store', \"Doodle God: 8-bit Mania - Collector's Item\", 'STAR WARS™: Rogue Squadron 3D', '1 Moment Of Time: Silentville', 'Madness Cubed', 'One way to exit', 'Maui', 'Eisenwald: Blood of November', 'Deer Man', \"Daily Chthonicle: Editor's Edition\", 'LuckCatchers', '1917 - The Alien Invasion DX', 'The VR Museum of Fine Art', 'Brave Dungeon', 'Boundel: The Second Era', 'Elisa: The Innkeeper - Prequel', 'Cosmic Sugar VR', 'Dungeon Journey', 'VR Regatta - The Sailing Game', 'OutDrive', 'Orake 2D MMORPG', 'Until I Have You', 'Selma and the Wisp', 'Masquerada: Songs and Shadows', 'The Next Door', 'Tasty Planet: Back for Seconds', \"Trapper's Delight\", 'Zaccaria Pinball', 'Dungeon Fighter Online', 'Out of Ammo', 'Zero-G VR', 'Farnham Fables', 'Children of a Dead Earth', 'Solitairica', 'Megadimension Neptunia VII', 'The Big Elk', 'Event[0]', 'The Count Lucanor', 'Red Trigger', 'ChuSingura46+1 S', 'Star Fields', 'Istrolid', \"Fly O'Clock\", 'Fancy Skiing VR', 'Intensive Exposure', 'King Kaiju', 'Citalis', 'Zero G Arena', 'Golden Krone Hotel', 'ORBITAL', 'Safety First!', 'Hyper color ball', 'Astral Heroes', 'Final Quest', 'Hot Dogs, Horseshoes & Hand Grenades', 'Paddle Up', 'Hooligan Vasja', 'Deep Space Dash', 'Calm Down, Stalin', 'Super Night Riders', 'Pepe Porcupine', 'Moon Colonization Project', 'Party Jousting', 'Red Comrades 2: For the Great Justice. Reloaded', 'Blue Effect VR', 'SMASHING THE BATTLE', 'TableTop Soccer', 'GIBZ', 'The Secret Order 3: Ancient Times', 'Might and Magic: Heroes VII – Trial by Fire', 'Hybrid Animals', 'Campaign Clicker', 'hack_me', 'VR The Diner Duo', 'Seduce Me 2: The Demon War', 'The Bellows', 'The Final Station', 'ALONE?', 'Fabulous Food Truck', \"Sally's Law\", 'GOD EATER 2 Rage Burst', 'Project Starship', 'The Average Everyday Adventures of Samantha Browne', 'Asteroid Bounty Hunter', 'Realities', 'Stable Orbit', 'Verdict Guilty - 유죄 평결', 'Vertigo', 'Waltz of the Wizard', 'Under Zero', 'Mini Golf Mundo', 'Glass Masquerade', 'Jesus Christ RPG Trilogy', 'IS Defense', 'Save Jesus', 'Physic Monster', 'HardCube', 'Soulless: Ray Of Hope', 'Black Sand Drift', 'Alicemare', 'AMOK', 'Bonsai', 'theBlu', 'Super Mustache', 'Forge of Gods (RPG)', 'Galaxy Control: 3D Strategy', 'Neon Space ULTRA', 'Just Hero', 'The Dweller', 'Risky Rescue', 'Bigscreen Beta', 'Kitty Cat: Jigsaw Puzzles', 'Conan the mighty pig', 'Stories: The Path of Destinies', 'Antihorror', 'Sonicomi', 'The Lab', \"Sunset's Ashes\", 'Sumeru', 'Take Thy Throne', 'Farming Simulator 17', 'Thorne - Death Merchants', 'Ludo Supremo', 'The Return Home Remastered', 'Bullets And More VR - BAM VR', 'Turbo Pug 3D', 'Ortus Regni', 'Outrage', 'Welcome to the Game', 'Reflection of Mine', 'Super Mega Neo Pug', 'Kingdom Rush Frontiers', 'Lost girl`s [diary]', 'Drop Alive', 'The Night Cafe: A VR Tribute to Vincent Van Gogh', 'Sins Of The Demon RPG', 'Riders of Icarus', 'Yomawari: Night Alone / 夜廻', 'My Lady', 'Divinity: Original Sin 2 - Definitive Edition', 'The Cubicle.', 'Idling to Rule the Gods', 'Book of Demons', 'Scrap Garden - The Day Before', 'Impossible Quest', 'Cockroach Simulator', 'Gravity Cat', 'Ant Queen', 'Archimedes', 'Delicious! Pretty Girls Mahjong Solitaire', 'Kingdom: New Lands', 'Minion Masters', 'Darksiders Warmastered Edition', \"Ghost Town Mine Ride & Shootin' Gallery\", 'Merger 3D', 'Quanero VR', \"it's always monday\", 'Abode', 'Allumette', 'Valentino Rossi The Game', 'Fossil Echo', 'Polygod', 'SMILE GAME BUILDER', 'Deceit', 'Khan: Absolute Power', 'EM: Shader Attack', 'Airstrike HD', 'Domino Sky', 'Liveza: Death of the Earth', 'The Lost Souls', 'Spellstone', 'Akin', 'Hunger Dungeon', 'A Date in the Park', 'Razortron 2000', 'klocki', 'Blueprint Tycoon', 'Ballistick', 'Shake Your Money Simulator 2016', 'Eternal Card Game', \"Five Nights at Freddy's: Sister Location\", 'Titan Quest Anniversary Edition', 'Stellar Monarch', 'Cyber City 2157: The Visual Novel', 'Flat Heroes', 'Quern - Undying Thoughts', 'Tank Blast', 'Dungeon Escape', 'The Men of Yoshiwara: Ohgiya', 'Puzzle Galaxies', 'Random Access Murder', 'Neon Space', 'In Celebration of Violence', 'Legend of Merchant', 'ROM: Extraction', 'The Survey', 'Voodoo Garden', 'You Have 10 Seconds', 'Porno Studio Tycoon', 'Head Shot', 'Think To Die', 'SizeBlock', 'Techwars Online', 'Song of the Deep', 'Sunset Rangers', 'Sleeping Valley', 'Totem', 'Blue Solar: Chaos War', 'KARAKARA', 'Rexodus: A VR Story Experience', 'Axis Football 2016', 'Phantaruk', 'Asemblance', 'Hexoscope', 'Party Panic', 'Battlerite', 'Home Behind', 'Mr. Massagy', 'Bunker Punks', 'Digimon Masters Online', 'Strange Night', 'Catch a Falling Star', 'Allods Online My.com', 'PRICE', 'The Janitor', 'The Magical Silence', 'So Many Cubes', 'Surfingers', 'Moustache Mountain', 'Treasure of a Blizzard', 'NO THING', 'Trimmer Tycoon', 'Bot Vice', 'THE LAST BLADE', 'Trip to Vinelands', 'Enigmatis 3: The Shadow of Karkhala', 'Hardware Engineering', 'Zup!', 'The Infinite Black', 'Castle Must Be Mine', 'Kingspray Graffiti VR', 'Bad ass babes', 'LEGO® STAR WARS™: The Force Awakens', 'Shuffle!', 'HoloBall', 'Breached', 'Potato Thriller', '拯救大魔王2 Rescue the Great Demon 2', 'Summer Sale', 'Shonen Idle Z', 'MegaTagmension Blanc + Neptune VS Zombies (Neptunia)', 'BitRay', \"Tomoyo After ~It's a Wonderful Life~ English Edition\", 'Once in Yaissor', 'Hope Lake', 'Bibou', 'Whirligig VR Media Player', 'Terminal Hacker', 'Super Blue Fighter', 'Shaolin vs Wutang', \"Destiny's Princess: A War Story, A Love Story\", 'GoNNER', 'A-Gents', 'Jalopy - The Road Trip Driving Indie Car Game (公路旅行驾驶游戏)', 'Bye-Bye, Wacky Planet', 'Sneak Thief', 'Zenge', 'Trick & Treat', 'NEKOPALIVE', 'Holopoint', 'Serial Cleaner', 'Abrix for kids', 'GUILTY GEAR Xrd -REVELATOR-', 'Straimium Immortaly', 'SEUM: Speedrunners from Hell', 'Descent: Road to Legend', 'NVIDIA® VR Funhouse', 'PixBit', 'GUILTY GEAR 2 -OVERTURE-', 'Battle Islands: Commanders', 'Super Star', \"Chimpact 1 - Chuck's Adventure\", 'BitMaster', 'The Underground Man', 'March of the Living', 'A Magical High School Girl / 魔法の女子高生', 'One Troll Army', 'Mind Spheres', 'Counter Agents', 'Kaboom Monsters', 'BUTCHER', 'The Last Hope', \"The Huntsman: Winter's Curse\", 'Fragmented', 'Hyposphere', 'Steep™', 'UFO Online: Invasion', 'Pinball FX2 VR', 'AuroraRL', 'Mad Bullets', 'Slayaway Camp', 'Agent Walker: Secret Journey', 'BoneBone: Rise of the Deathlord', 'Magma Tsunami', 'Riding Out', 'Magical Otoge Ciel', 'Tavernier', 'Age of Gladiators', 'VR Ping Pong', 'Color Syndrome', 'Aim Hero', 'Aircraft War X', 'Parkitect', 'Lost in Secular Love', 'Neon Hardcorps', 'Draw Rider', 'Shop Heroes', 'RutonyChat', 'Crime Secrets: Crimson Lily', 'Tyto Ecology', 'Worm.is: The Game', 'Intralism', 'Elves Adventure', 'Skautfold: Shrouded in Sanity', 'Guards', 'FPV Air Tracks', 'Root Double -Before Crime * After Days- Xtend Edition', 'Whispers', 'Ballistic Tanks', 'Quantum Break', 'Imprisoned Light', 'Haydee', \"The God's Chain\", 'Amulet of Dreams', 'Along the Edge', 'Breathing Fear', \"Alice's Patchwork\", 'Spaera', 'Major\\\\Minor - Complete Edition', 'Evo Explores', \"Roll'd\", 'Project RPG Remastered', 'Moonstone Tavern - A Fantasy Tavern Sim!', 'Chicken Invaders 2', 'Life is Feudal: Forest Village', 'Kyoto Colorful Days', 'Wrath of Anna', 'Mad Father', 'Reigns', 'Front Office Football Eight', 'Dead6hot', 'Flowers -Le volume sur printemps-', 'Infestation: The New Z', 'Hade', 'The Cooking Game', 'Disney Movies VR', 'Tribal Pass', 'INVASION!', 'Epsilon corp.', 'The Golf Club VR', 'Dinosaur Forest', '[the Sequence]', 'TRAPPED', 'Zenith', 'Picross Touch', 'Hiiro', 'Minimized', 'CASE: Animatronics', 'Orwell: Keeping an Eye On You', 'Cats are Liquid - A Light in the Shadows', 'Case #8', 'Cubway', 'The Mahjong Huntress', \"King's Guard TD\", 'Mansions of Madness', 'Gun Done', 'Caesar™ IV', 'Russian SuperHero Dead Ivan', 'Corona Blossom Vol.1 Gift From the Galaxy', 'Christmas Adventure: Candy Storm', 'Onechanbara Z2: Chaos', 'Snooker Nation Championship', 'Off-Peak', 'Yore VR', 'Ships 2017', 'Ashes of the Singularity: Escalation', 'The Panic Room', '50 years', 'The Spatials: Galactology', 'Conclusion', 'The Last Time', 'Cubicolor', 'Pierhead Arcade', 'Lethal VR', 'Mad Combat Marines', 'Planet Coaster', 'Creepy Castle', 'Royal Heroes', 'Krampus', 'Spell Fighter VR', 'Rage Wars', 'Warriors of Vilvatikta', 'JumpBall', 'Sakura Shrine Girls', 'Survive in Space', 'Dead End Road', 'Overload Playable Teaser 3.0', 'VR: Vacate the Room (Virtual Reality Escape)', 'Drift GEAR Racing Free', 'Genital Jousting', 'BallisticNG', 'Lazerbait', 'METAGAL', 'Zombitatos the end of the Pc master race', 'Dungeon of Zolthan', 'Space Codex', 'Winter Novel', 'Zombie Training Simulator', 'DoDonPachi Resurrection', 'Switchcars', 'Hello Charlotte EP2: Requiem Aeternam Deo', 'Minds Eyes', '12 Labours of Hercules V: Kids of Hellas (Platinum Edition)', 'Nitroplus Blasterz: Heroines Infinite Duel', 'Broken Dreams', 'Mahluk:Dark Demon', 'Calcu-Late', 'Bubble Blowout', 'Arkshot', 'A grande bagunça espacial - The big space mess', 'Klabi', 'Trickster VR: Co-op Dungeon Crawler', 'Higurashi When They Cry Hou - Ch.3 Tatarigoroshi', 'Obscuritas', 'GemBreak', 'Sakura Space', 'Dragon Rage', 'MAZE LORD', 'A-10 VR', 'Leave Me Alone: A Trip To Hell', 'Bear With Me - Episode One', 'Video blogger Story', 'Soundboxing', '35MM', 'Share', 'Colosse', 'Space Pilgrim Episode III: Delta Pavonis', 'Jelly Killer', 'Cellar', '24 HOURS', 'Factory Engineer', '10 Second Ninja X', 'Attack on Titan / A.O.T. Wings of Freedom', \"BATTLE PIXEL'S SURVIVAL GROUND\", 'Blind Trust', 'The Elder Scrolls V: Skyrim Special Edition', 'Antenna', 'SHENZHEN I/O', 'Apollo 11 VR', 'Destiny of Ancient Kingdoms™', 'Crown Champion: Legends of the Arena', 'My Summer Car', 'Stash', 'REDCON', 'Jackal', 'Stars in Shadow', 'Hustle Cat', 'City Car Driving', 'One Night Stand', 'Wayout', 'Tap Tap Legions - Epic battles within 5 seconds!', 'Riddles Of The Past', 'Mantis Burn Racing®', 'Extreme Forklifting 2', 'Noob Squad', 'ONRAID', '8infinity', 'Racecar.io', 'Dragon Knight', 'Red Risk', 'Weird Hero', 'Alteric', 'Shu', 'Pristine world', 'Mimpi Dreams', 'Machine Made: Rebirth', 'Ultimate Booster Experience', 'Unforgiving Trials: The Darkest Crusade', 'Legends of Callasia', 'Fruit Ninja VR', 'Cube Destroyer', 'The Thrill of the Fight - VR Boxing', 'Niche - a genetics survival game', 'Zezenia Online', 'Envoy 2', 'Brine', 'Mind Games', 'The Atomy', 'Chicken Assassin: Reloaded', 'Slash or Die', 'Bayla Bunny', 'Handsome Mr. Frog', 'Kabitis', 'Anykey Simulator', 'Climbey', 'Street Legal Racing: Redline v2.3.1', 'The Orb Chambers™', 'UNDER NIGHT IN-BIRTH Exe:Late', 'Sisyphus Reborn', 'Alien Run', 'Drizzlepath: Genie', 'Shape Shifter', 'The Bottom of the Well', \"Sophie's Curse\", 'Sakura Nova', 'Space Incident', 'Forgotten, Not Lost - A Kinetic Novel', '30 IMPOSSIBLE LEVELS', 'Zolg', 'Toadled', 'Clock Simulator', 'Invention 2', 'Divided We Fall: Play For Free', 'Zup! 2', 'Sixtieth Kilometer', 'NORTH', 'Turbo Pug DX', 'Haven Moon', 'Mindless Running', 'Reset 1-1', 'Brick Rigs', 'KUBOOM', 'Zombie City Defense 2', 'The face of hope: Underground', 'Crazy Forest', \"Charlie's Adventure\", 'Neon Prism', \"Grand Pigeon's Duty\", \"There's Poop In My Soup\", 'Awareness Rooms', 'Wooden House', 'Bacteria', 'Last Will', 'Mu Cartographer', 'Grizzly Valley', 'Mr. Pumpkin Adventure', 'PRINCIPIA: Master of Science', '$1 Ride', 'Timore Inferno', 'Predynastic Egypt', 'Kismet', 'Tomato Jones', 'Bohemian Killing', 'Meadow', 'Atulos Online', 'Lightblade VR', 'Replica', 'Siralim 2', 'THOTH', 'Legionwood 1: Tale of the Two Swords', 'Massive', 'Memory Oblivion Box', \"Cally's Trials\", 'Trials of the Blood Dragon', 'Hospitalize', 'GIGA WRECKER', 'You Deserve', 'Dark Fear', 'Fresh Body', \"The Beggar's Ride\", 'Cosmic Dust & Rust', 'Badiya: Desert Survival', \"Medusa's Labyrinth\", 'Caveman World: Mountains of Unga Boonga', 'Riding Club Championships', 'A Healer Only Lives Twice', \"Can't Drive This\", 'Brief Karate Foolish', 'Khimera: Destroy All Monster Girls', 'High Octane Drift', 'ALONE IN SPACE', 'Rec Room', 'Feel The Snow', 'Rose of Winter', \"GO AWAY, THERE'S KUMIS OVER THERE!\", 'Shadows of Kurgansk', 'ABC Coloring Town', 'Dream Dealer', 'Grim Legends 3: The Dark City', 'Montaro', 'KickHim', 'Lost In Woods 2', 'Dear RED - Extended', 'VA-11 Hall-A: Cyberpunk Bartender Action', 'Trillion: God of Destruction', 'Bullet Sorrow VR', 'Japanese School Life', 'Kimulator : Fight for your destiny', 'Caesar™ 3', 'The Bunker', 'True Love ～Confide to the Maple～', 'Quest for Glory 1-5', 'Hero Battle', 'Redout: Enhanced Edition', 'Manual Samuel', 'The Last Leviathan', 'Demetrios - The BIG Cynical Adventure', 'Survival Zombies The Inverted Evolution', \"Don't open the doors!\", 'The Deed: Dynasty', 'CrazyCars3D', 'Drayt Empire', 'Ghost 1.0', 'Werewolves Within™', 'Drawful 2', 'Slavistan', 'Bitardia Cards: Memes of 2ch', 'New Retro Arcade: Neon', 'Found', 'Day of Infamy', 'CounterAttack', 'The Dope Game', 'Beholder', 'Surge', 'Purgatory', 'Watch This!', 'Caveblazers', 'STAR WARS™ Rebellion', 'Crush Crush', 'System Crash', 'ABE VR', 'Surgeon Simulator: Experience Reality', 'Battle Time', 'Redactem', 'Super Duper Party Pooper', 'Soccer Manager', 'Autumn', 'Inverted', 'ALICE VR', 'Gal*Gun: Double Peace', 'Relaxation balls', 'Prison Run and Gun', 'Space Beret', 'Pixel Cup Soccer 17', 'The Silver Case', 'Epic Battle Fantasy 3', 'The Hero Project: Redemption Season', 'Ara Fell', 'Just Deserts', 'Astroflux', 'Dungetris', 'ICEY', 'Accounting (Legacy)', 'Nurse Love Addiction', 'Princess Maker 2 Refine', \"Her Majesty's SPIFFING\", 'AI: Rampage', 'Carmageddon: Max Damage', 'Spikit', 'Watch_Dogs® 2', 'DRAGON BALL XENOVERSE 2', 'Champions of Breakfast', 'Learn Japanese To Survive! Hiragana Battle', \"Frederic: Resurrection of Music Director's Cut\", 'Pixel Gladiator', 'Stellar Tactics', 'Diaries of a Spaceport Janitor', 'Lethal Brutal Racing', 'HellAngel', 'Dark Eden', 'Adam Wolfe', 'The Visitor', 'SPATIAL SOUND CARD', 'Hero Zero', 'Rusty Lake: Roots', 'Purino Party', 'Rise of the Ancients', 'Blasters of the Universe', 'Pan-Pan', 'Beater Spirit', 'PAC-MAN™ CHAMPIONSHIP EDITION 2', 'SweatShop', 'Serious Sam VR: The Last Hope', 'The Pit And The Pendulum', 'Ley Lines', 'Notruf 112 | Emergency Call 112', 'S2ENGINE HD', 'OPUS: The Day We Found Earth', 'Galaxy Reavers', 'Octave', 'The Pirate: Caribbean Hunt', 'Bloody Walls', 'The Shape Of Heart', 'Beautiful Japanese Scenery - Animated Jigsaws', 'Dark Train', 'Approaching Blocks', 'Dashy Square', 'Princess Remedy 2: In A Heap of Trouble', 'Escape This', 'A Little Lily Princess', 'Dynamic Very, Very, Hard game!!', 'Shadowverse CCG', 'Blade Arcus from Shining: Battle Arena', 'Stay Close', 'Cyberpong', 'JDM Tuner Racing', 'hackmud', 'Cat on a Diet', 'Clickdraw Clicker', 'Just Dance 2017', 'Ghoul Kid', \"Richie's Plank Experience\", 'NUKED KNIGHT', '3030 Deathwar Redux - A Space Odyssey', 'StarsOne', 'KNIGHTS', 'Koihime Enbu 恋姫†演武', \"Candice DeBébé's Incredibly Trick Lifestyle\", 'Carnival Games® VR', 'Security Hole', 'Hero Quest: Tower Conflict', 'Disturbed', 'Ace of Seafood', 'Cmoar VR Cinema', 'Intrude', 'State of Anarchy', 'Ember Kaboom', 'True Fear: Forsaken Souls', 'Wolf Simulator', 'The Herbalist', \"Unbox: Newbie's Adventure\", 'Polandball: Can into Space!', 'Rock Paper Scissors Champion', 'Shakes and Fidget', 'Masked Forces', 'Titans of Space PLUS', 'Arcanum: Of Steamworks and Magick Obscura', \"Rock 'N' Roll Defense\", 'Ultimate General: Civil War', 'Cubium Dreams', 'VERSUS SQUAD', 'The Eyes of Ara', 'Slingshot people', 'Onward', 'Highway Blossoms', 'Helmet Heroes', 'Drunkn Bar Fight', 'Sword Master VR', 'Altar Guardian', 'Banzai Escape', 'Unknown Battle', 'Batman - The Telltale Series', 'Earth Space Colonies', 'Warbands: Bushido', 'Spin Rush', 'BlackSmith HIT', 'Star Realms', 'BARRIER X', 'PAC-MAN 256', 'The Art of Fight | 4vs4 Fast-Paced FPS', 'UBERMOSH Vol.3', 'Ninja Stealth', 'Pointless', 'IKEA VR Experience', 'Overcooked', 'Ahnayro: The Dream World', \"HEBEREKE!: March! Red Army Girls' Brigade\", 'A Blind Legend', 'Paladins®', 'Voxel Warfare Online', 'Plastic Playground', 'The Leisure of Grisaia', 'Ride 2', 'Muddy Heights® 2', \"Guardian's Oath\", 'New York Mysteries: The Lantern of Souls', 'Black Rose', 'The Sandbox Evolution - Craft a 2D Pixel Universe!', 'Strike.is: The Game', 'LostWinds', 'Crispy Chicken', 'Bizarre Earthquake'}\n"
          ]
        }
      ]
    },
    {
      "cell_type": "code",
      "source": [
        "game_names = df.iloc[:final_features.shape[0]][\"name\"].values  # Ambil hanya sebanyak final_features\n",
        "cosine_sim_df = pd.DataFrame(cosine_sim, index=game_names, columns=game_names)\n",
        "print(cosine_sim_df.head())\n"
      ],
      "metadata": {
        "colab": {
          "base_uri": "https://localhost:8080/"
        },
        "id": "eDtu-ElBZwZ0",
        "outputId": "9f2eb25b-22b6-46d1-a2dc-2525d8ff8a62"
      },
      "execution_count": 26,
      "outputs": [
        {
          "output_type": "stream",
          "name": "stdout",
          "text": [
            "                           Counter-Strike  Team Fortress Classic  \\\n",
            "Counter-Strike                   1.000000               1.000000   \n",
            "Team Fortress Classic            1.000000               1.000000   \n",
            "Day of Defeat                    0.833950               0.833950   \n",
            "Deathmatch Classic               1.000000               1.000000   \n",
            "Half-Life: Opposing Force        0.800641               0.800641   \n",
            "\n",
            "                           Day of Defeat  Deathmatch Classic  \\\n",
            "Counter-Strike                   0.83395            1.000000   \n",
            "Team Fortress Classic            0.83395            1.000000   \n",
            "Day of Defeat                    1.00000            0.833950   \n",
            "Deathmatch Classic               0.83395            1.000000   \n",
            "Half-Life: Opposing Force        0.83205            0.800641   \n",
            "\n",
            "                           Half-Life: Opposing Force  Ricochet  Half-Life  \\\n",
            "Counter-Strike                              0.800641  0.962250   0.903525   \n",
            "Team Fortress Classic                       0.800641  0.962250   0.903525   \n",
            "Day of Defeat                               0.832050  0.916667   0.816497   \n",
            "Deathmatch Classic                          0.800641  0.962250   0.903525   \n",
            "Half-Life: Opposing Force                   1.000000  0.832050   0.849208   \n",
            "\n",
            "                           Counter-Strike: Condition Zero  \\\n",
            "Counter-Strike                                   0.854017   \n",
            "Team Fortress Classic                            0.854017   \n",
            "Day of Defeat                                    0.924500   \n",
            "Deathmatch Classic                               0.854017   \n",
            "Half-Life: Opposing Force                        0.923077   \n",
            "\n",
            "                           Half-Life: Blue Shift  Half-Life 2  ...  \\\n",
            "Counter-Strike                          0.430331     0.226455  ...   \n",
            "Team Fortress Classic                   0.430331     0.226455  ...   \n",
            "Day of Defeat                           0.447214     0.261488  ...   \n",
            "Deathmatch Classic                      0.430331     0.226455  ...   \n",
            "Half-Life: Opposing Force               0.744208     0.271964  ...   \n",
            "\n",
            "                           Abbot's Book Demo  Simutrans  Blood and Bacon  \\\n",
            "Counter-Strike                      0.181444   0.192450         0.269430   \n",
            "Team Fortress Classic               0.181444   0.192450         0.269430   \n",
            "Day of Defeat                       0.157135   0.111111         0.133333   \n",
            "Deathmatch Classic                  0.181444   0.192450         0.269430   \n",
            "Half-Life: Opposing Force           0.261488   0.277350         0.166410   \n",
            "\n",
            "                           Lost Castle  Lamia's Game Room  Half Dead  \\\n",
            "Counter-Strike                0.144338           0.218218   0.204124   \n",
            "Team Fortress Classic         0.144338           0.218218   0.204124   \n",
            "Day of Defeat                 0.083333           0.125988   0.117851   \n",
            "Deathmatch Classic            0.144338           0.218218   0.204124   \n",
            "Half-Life: Opposing Force     0.208013           0.314485   0.294174   \n",
            "\n",
            "                           Lichtspeer  Hieroglyphika  Lost Lands: Mahjong  \\\n",
            "Counter-Strike               0.480384       0.154303             0.160128   \n",
            "Team Fortress Classic        0.480384       0.154303             0.160128   \n",
            "Day of Defeat                0.277350       0.089087             0.092450   \n",
            "Deathmatch Classic           0.480384       0.154303             0.160128   \n",
            "Half-Life: Opposing Force    0.307692       0.222375             0.230769   \n",
            "\n",
            "                           Rusty Lake Hotel  \n",
            "Counter-Strike                     0.387298  \n",
            "Team Fortress Classic              0.387298  \n",
            "Day of Defeat                      0.223607  \n",
            "Deathmatch Classic                 0.387298  \n",
            "Half-Life: Opposing Force          0.248069  \n",
            "\n",
            "[5 rows x 5299 columns]\n"
          ]
        }
      ]
    },
    {
      "cell_type": "code",
      "source": [
        "print(df[\"name\"].duplicated().sum())  # Jika > 0, ada duplikasi\n"
      ],
      "metadata": {
        "colab": {
          "base_uri": "https://localhost:8080/"
        },
        "id": "9eTE_LclZ5sD",
        "outputId": "0b3dc49c-eb93-431d-92db-5cd27b47d1aa"
      },
      "execution_count": 28,
      "outputs": [
        {
          "output_type": "stream",
          "name": "stdout",
          "text": [
            "1080\n"
          ]
        }
      ]
    },
    {
      "cell_type": "code",
      "source": [
        "df = df.drop_duplicates(subset=\"name\").reset_index(drop=True)\n"
      ],
      "metadata": {
        "id": "K5YMVUIBZ7Oq"
      },
      "execution_count": 29,
      "outputs": []
    },
    {
      "cell_type": "code",
      "source": [
        "# Menghitung Cosine Similarity\n",
        "cosine_sim = cosine_similarity(final_features)\n",
        "\n",
        "# Konversi ke DataFrame untuk memudahkan analisis\n",
        "cosine_sim_df = pd.DataFrame(cosine_sim, index=df[\"name\"], columns=df[\"name\"])\n",
        "\n",
        "print(cosine_sim_df.head())  # Cek beberapa nilai similarity\n"
      ],
      "metadata": {
        "colab": {
          "base_uri": "https://localhost:8080/",
          "height": 423
        },
        "id": "hWH64M1qTZDg",
        "outputId": "563cd654-579f-47f8-83eb-058c1ce56f28"
      },
      "execution_count": 30,
      "outputs": [
        {
          "output_type": "error",
          "ename": "ValueError",
          "evalue": "Shape of passed values is (5299, 5299), indices imply (5298, 5298)",
          "traceback": [
            "\u001b[0;31m---------------------------------------------------------------------------\u001b[0m",
            "\u001b[0;31mValueError\u001b[0m                                Traceback (most recent call last)",
            "\u001b[0;32m<ipython-input-30-29ffc976fccc>\u001b[0m in \u001b[0;36m<cell line: 0>\u001b[0;34m()\u001b[0m\n\u001b[1;32m      3\u001b[0m \u001b[0;34m\u001b[0m\u001b[0m\n\u001b[1;32m      4\u001b[0m \u001b[0;31m# Konversi ke DataFrame untuk memudahkan analisis\u001b[0m\u001b[0;34m\u001b[0m\u001b[0;34m\u001b[0m\u001b[0m\n\u001b[0;32m----> 5\u001b[0;31m \u001b[0mcosine_sim_df\u001b[0m \u001b[0;34m=\u001b[0m \u001b[0mpd\u001b[0m\u001b[0;34m.\u001b[0m\u001b[0mDataFrame\u001b[0m\u001b[0;34m(\u001b[0m\u001b[0mcosine_sim\u001b[0m\u001b[0;34m,\u001b[0m \u001b[0mindex\u001b[0m\u001b[0;34m=\u001b[0m\u001b[0mdf\u001b[0m\u001b[0;34m[\u001b[0m\u001b[0;34m\"name\"\u001b[0m\u001b[0;34m]\u001b[0m\u001b[0;34m,\u001b[0m \u001b[0mcolumns\u001b[0m\u001b[0;34m=\u001b[0m\u001b[0mdf\u001b[0m\u001b[0;34m[\u001b[0m\u001b[0;34m\"name\"\u001b[0m\u001b[0;34m]\u001b[0m\u001b[0;34m)\u001b[0m\u001b[0;34m\u001b[0m\u001b[0;34m\u001b[0m\u001b[0m\n\u001b[0m\u001b[1;32m      6\u001b[0m \u001b[0;34m\u001b[0m\u001b[0m\n\u001b[1;32m      7\u001b[0m \u001b[0mprint\u001b[0m\u001b[0;34m(\u001b[0m\u001b[0mcosine_sim_df\u001b[0m\u001b[0;34m.\u001b[0m\u001b[0mhead\u001b[0m\u001b[0;34m(\u001b[0m\u001b[0;34m)\u001b[0m\u001b[0;34m)\u001b[0m  \u001b[0;31m# Cek beberapa nilai similarity\u001b[0m\u001b[0;34m\u001b[0m\u001b[0;34m\u001b[0m\u001b[0m\n",
            "\u001b[0;32m/usr/local/lib/python3.11/dist-packages/pandas/core/frame.py\u001b[0m in \u001b[0;36m__init__\u001b[0;34m(self, data, index, columns, dtype, copy)\u001b[0m\n\u001b[1;32m    825\u001b[0m                 )\n\u001b[1;32m    826\u001b[0m             \u001b[0;32melse\u001b[0m\u001b[0;34m:\u001b[0m\u001b[0;34m\u001b[0m\u001b[0;34m\u001b[0m\u001b[0m\n\u001b[0;32m--> 827\u001b[0;31m                 mgr = ndarray_to_mgr(\n\u001b[0m\u001b[1;32m    828\u001b[0m                     \u001b[0mdata\u001b[0m\u001b[0;34m,\u001b[0m\u001b[0;34m\u001b[0m\u001b[0;34m\u001b[0m\u001b[0m\n\u001b[1;32m    829\u001b[0m                     \u001b[0mindex\u001b[0m\u001b[0;34m,\u001b[0m\u001b[0;34m\u001b[0m\u001b[0;34m\u001b[0m\u001b[0m\n",
            "\u001b[0;32m/usr/local/lib/python3.11/dist-packages/pandas/core/internals/construction.py\u001b[0m in \u001b[0;36mndarray_to_mgr\u001b[0;34m(values, index, columns, dtype, copy, typ)\u001b[0m\n\u001b[1;32m    334\u001b[0m     )\n\u001b[1;32m    335\u001b[0m \u001b[0;34m\u001b[0m\u001b[0m\n\u001b[0;32m--> 336\u001b[0;31m     \u001b[0m_check_values_indices_shape_match\u001b[0m\u001b[0;34m(\u001b[0m\u001b[0mvalues\u001b[0m\u001b[0;34m,\u001b[0m \u001b[0mindex\u001b[0m\u001b[0;34m,\u001b[0m \u001b[0mcolumns\u001b[0m\u001b[0;34m)\u001b[0m\u001b[0;34m\u001b[0m\u001b[0;34m\u001b[0m\u001b[0m\n\u001b[0m\u001b[1;32m    337\u001b[0m \u001b[0;34m\u001b[0m\u001b[0m\n\u001b[1;32m    338\u001b[0m     \u001b[0;32mif\u001b[0m \u001b[0mtyp\u001b[0m \u001b[0;34m==\u001b[0m \u001b[0;34m\"array\"\u001b[0m\u001b[0;34m:\u001b[0m\u001b[0;34m\u001b[0m\u001b[0;34m\u001b[0m\u001b[0m\n",
            "\u001b[0;32m/usr/local/lib/python3.11/dist-packages/pandas/core/internals/construction.py\u001b[0m in \u001b[0;36m_check_values_indices_shape_match\u001b[0;34m(values, index, columns)\u001b[0m\n\u001b[1;32m    418\u001b[0m         \u001b[0mpassed\u001b[0m \u001b[0;34m=\u001b[0m \u001b[0mvalues\u001b[0m\u001b[0;34m.\u001b[0m\u001b[0mshape\u001b[0m\u001b[0;34m\u001b[0m\u001b[0;34m\u001b[0m\u001b[0m\n\u001b[1;32m    419\u001b[0m         \u001b[0mimplied\u001b[0m \u001b[0;34m=\u001b[0m \u001b[0;34m(\u001b[0m\u001b[0mlen\u001b[0m\u001b[0;34m(\u001b[0m\u001b[0mindex\u001b[0m\u001b[0;34m)\u001b[0m\u001b[0;34m,\u001b[0m \u001b[0mlen\u001b[0m\u001b[0;34m(\u001b[0m\u001b[0mcolumns\u001b[0m\u001b[0;34m)\u001b[0m\u001b[0;34m)\u001b[0m\u001b[0;34m\u001b[0m\u001b[0;34m\u001b[0m\u001b[0m\n\u001b[0;32m--> 420\u001b[0;31m         \u001b[0;32mraise\u001b[0m \u001b[0mValueError\u001b[0m\u001b[0;34m(\u001b[0m\u001b[0;34mf\"Shape of passed values is {passed}, indices imply {implied}\"\u001b[0m\u001b[0;34m)\u001b[0m\u001b[0;34m\u001b[0m\u001b[0;34m\u001b[0m\u001b[0m\n\u001b[0m\u001b[1;32m    421\u001b[0m \u001b[0;34m\u001b[0m\u001b[0m\n\u001b[1;32m    422\u001b[0m \u001b[0;34m\u001b[0m\u001b[0m\n",
            "\u001b[0;31mValueError\u001b[0m: Shape of passed values is (5299, 5299), indices imply (5298, 5298)"
          ]
        }
      ]
    },
    {
      "cell_type": "code",
      "source": [
        "from sklearn.preprocessing import MinMaxScaler\n",
        "\n",
        "scaler = MinMaxScaler()\n",
        "developer_df = pd.DataFrame(scaler.fit_transform(developer_df), columns=developer_df.columns)\n",
        "publisher_df = pd.DataFrame(scaler.fit_transform(publisher_df), columns=publisher_df.columns)\n",
        "categories_df = pd.DataFrame(scaler.fit_transform(categories_df), columns=categories_df.columns)\n",
        "genres_df = pd.DataFrame(scaler.fit_transform(genres_df), columns=genres_df.columns)\n",
        "\n",
        "# Contoh bobot (atur sesuai kebutuhan)\n",
        "weights = {\n",
        "    \"developer\": 1.0,\n",
        "    \"publisher\": 0.5,\n",
        "    \"categories\": 1.5,\n",
        "    \"genres\": 2.0\n",
        "}\n",
        "\n",
        "# Pastikan tidak ada NaN dalam setiap DataFrame sebelum pembobotan\n",
        "developer_df = developer_df.fillna(0)\n",
        "publisher_df = publisher_df.fillna(0)\n",
        "categories_df = categories_df.fillna(0)\n",
        "genres_df = genres_df.fillna(0)\n",
        "\n",
        "# Terapkan bobot ke vektor fitur\n",
        "weighted_features = (\n",
        "    developer_df * weights[\"developer\"] +\n",
        "    publisher_df * weights[\"publisher\"] +\n",
        "    categories_df * weights[\"categories\"] +\n",
        "    genres_df * weights[\"genres\"]\n",
        ")\n",
        "\n",
        "# Pastikan weighted_features tidak memiliki NaN\n",
        "weighted_features = weighted_features.fillna(0)\n",
        "\n",
        "# Hitung ulang Cosine Similarity setelah pembobotan\n",
        "weighted_cosine_sim = cosine_similarity(weighted_features)\n",
        "\n",
        "# Konversi ke DataFrame\n",
        "weighted_cosine_sim_df = pd.DataFrame(weighted_cosine_sim, index=df[\"name\"], columns=df[\"name\"])\n",
        "\n",
        "print(weighted_cosine_sim_df.head())  # Cek hasil similarity berbobot\n",
        "\n",
        "print(developer_df.nunique())  # Lihat jumlah nilai unik per kolom\n",
        "print(publisher_df.nunique())\n",
        "print(categories_df.nunique())\n",
        "print(genres_df.nunique())"
      ],
      "metadata": {
        "colab": {
          "base_uri": "https://localhost:8080/"
        },
        "id": "5xHfoVvdUUu8",
        "outputId": "8ce60374-cfdc-426e-9f2a-407d33ffc0ec"
      },
      "execution_count": 21,
      "outputs": [
        {
          "output_type": "stream",
          "name": "stdout",
          "text": [
            "name                       Counter-Strike  Team Fortress Classic  \\\n",
            "name                                                               \n",
            "Counter-Strike                        0.0                    0.0   \n",
            "Team Fortress Classic                 0.0                    0.0   \n",
            "Day of Defeat                         0.0                    0.0   \n",
            "Deathmatch Classic                    0.0                    0.0   \n",
            "Half-Life: Opposing Force             0.0                    0.0   \n",
            "\n",
            "name                       Day of Defeat  Deathmatch Classic  \\\n",
            "name                                                           \n",
            "Counter-Strike                       0.0                 0.0   \n",
            "Team Fortress Classic                0.0                 0.0   \n",
            "Day of Defeat                        0.0                 0.0   \n",
            "Deathmatch Classic                   0.0                 0.0   \n",
            "Half-Life: Opposing Force            0.0                 0.0   \n",
            "\n",
            "name                       Half-Life: Opposing Force  Ricochet  Half-Life  \\\n",
            "name                                                                        \n",
            "Counter-Strike                                   0.0       0.0        0.0   \n",
            "Team Fortress Classic                            0.0       0.0        0.0   \n",
            "Day of Defeat                                    0.0       0.0        0.0   \n",
            "Deathmatch Classic                               0.0       0.0        0.0   \n",
            "Half-Life: Opposing Force                        0.0       0.0        0.0   \n",
            "\n",
            "name                       Counter-Strike: Condition Zero  \\\n",
            "name                                                        \n",
            "Counter-Strike                                        0.0   \n",
            "Team Fortress Classic                                 0.0   \n",
            "Day of Defeat                                         0.0   \n",
            "Deathmatch Classic                                    0.0   \n",
            "Half-Life: Opposing Force                             0.0   \n",
            "\n",
            "name                       Half-Life: Blue Shift  Half-Life 2  ...  \\\n",
            "name                                                           ...   \n",
            "Counter-Strike                               0.0          0.0  ...   \n",
            "Team Fortress Classic                        0.0          0.0  ...   \n",
            "Day of Defeat                                0.0          0.0  ...   \n",
            "Deathmatch Classic                           0.0          0.0  ...   \n",
            "Half-Life: Opposing Force                    0.0          0.0  ...   \n",
            "\n",
            "name                       Charlie's Adventure  \\\n",
            "name                                             \n",
            "Counter-Strike                             0.0   \n",
            "Team Fortress Classic                      0.0   \n",
            "Day of Defeat                              0.0   \n",
            "Deathmatch Classic                         0.0   \n",
            "Half-Life: Opposing Force                  0.0   \n",
            "\n",
            "name                       Hello Charlotte EP2: Requiem Aeternam Deo  \\\n",
            "name                                                                   \n",
            "Counter-Strike                                                   0.0   \n",
            "Team Fortress Classic                                            0.0   \n",
            "Day of Defeat                                                    0.0   \n",
            "Deathmatch Classic                                               0.0   \n",
            "Half-Life: Opposing Force                                        0.0   \n",
            "\n",
            "name                       Atom Fishing II  Sunset's Ashes  \\\n",
            "name                                                         \n",
            "Counter-Strike                         0.0             0.0   \n",
            "Team Fortress Classic                  0.0             0.0   \n",
            "Day of Defeat                          0.0             0.0   \n",
            "Deathmatch Classic                     0.0             0.0   \n",
            "Half-Life: Opposing Force              0.0             0.0   \n",
            "\n",
            "name                       it's always monday  Cosmic Sugar VR  \\\n",
            "name                                                             \n",
            "Counter-Strike                            0.0              0.0   \n",
            "Team Fortress Classic                     0.0              0.0   \n",
            "Day of Defeat                             0.0              0.0   \n",
            "Deathmatch Classic                        0.0              0.0   \n",
            "Half-Life: Opposing Force                 0.0              0.0   \n",
            "\n",
            "name                       Sunset Rangers  Merlin adventurer store  Zup! 2  \\\n",
            "name                                                                         \n",
            "Counter-Strike                        0.0                      0.0     0.0   \n",
            "Team Fortress Classic                 0.0                      0.0     0.0   \n",
            "Day of Defeat                         0.0                      0.0     0.0   \n",
            "Deathmatch Classic                    0.0                      0.0     0.0   \n",
            "Half-Life: Opposing Force             0.0                      0.0     0.0   \n",
            "\n",
            "name                       Shot Shot Tactic  \n",
            "name                                         \n",
            "Counter-Strike                          0.0  \n",
            "Team Fortress Classic                   0.0  \n",
            "Day of Defeat                           0.0  \n",
            "Deathmatch Classic                      0.0  \n",
            "Half-Life: Opposing Force               0.0  \n",
            "\n",
            "[5 rows x 5299 columns]\n",
            "developer_07th Expansion                  2\n",
            "developer_100 Stones Interactive          2\n",
            "developer_10Ants Hill                     2\n",
            "developer_10th Art Studio;Daring Touch    2\n",
            "developer_10tons Ltd                      2\n",
            "                                         ..\n",
            "developer_哈视奇科技                           2\n",
            "developer_橘子班                             2\n",
            "developer_灰烬天国                            2\n",
            "developer_疯王子                             2\n",
            "developer_高考恋爱委员会                         2\n",
            "Length: 3667, dtype: int64\n",
            "publisher_                                                2\n",
            "publisher_ GungHo Online Entertainment America, Inc.\\t    2\n",
            "publisher_ Sean Davy                                      2\n",
            "publisher_ VisualArts                                     2\n",
            "publisher_!Lim studio                                     2\n",
            "                                                         ..\n",
            "publisher_Носков Сергей                                   2\n",
            "publisher_哈视奇科技                                           2\n",
            "publisher_灰烬天国                                            2\n",
            "publisher_疯王子中二集团总部                                       2\n",
            "publisher_nan                                             2\n",
            "Length: 2646, dtype: int64\n",
            "achievements     2\n",
            "anti             2\n",
            "app              2\n",
            "available        3\n",
            "captions         2\n",
            "cards            2\n",
            "cheat            2\n",
            "cloud            2\n",
            "co               4\n",
            "collectibles     2\n",
            "commentary       2\n",
            "controller       3\n",
            "cross            2\n",
            "editor           2\n",
            "enabled          2\n",
            "full             2\n",
            "in               2\n",
            "includes         3\n",
            "leaderboards     2\n",
            "level            2\n",
            "local            3\n",
            "mmo              2\n",
            "mods             2\n",
            "multi            4\n",
            "multiplayer      2\n",
            "notifications    2\n",
            "online           3\n",
            "op               4\n",
            "partial          2\n",
            "platform         2\n",
            "player           5\n",
            "purchases        2\n",
            "screen           2\n",
            "sdk              2\n",
            "shared           2\n",
            "single           2\n",
            "source           2\n",
            "split            2\n",
            "stats            2\n",
            "steam            7\n",
            "steamvr          2\n",
            "support          4\n",
            "trading          2\n",
            "turn             2\n",
            "valve            2\n",
            "vr               2\n",
            "workshop         2\n",
            "dtype: int64\n",
            "access          2\n",
            "action          2\n",
            "adventure       2\n",
            "animation       2\n",
            "audio           2\n",
            "casual          2\n",
            "content         2\n",
            "design          2\n",
            "development     2\n",
            "early           2\n",
            "editing         2\n",
            "education       2\n",
            "free            2\n",
            "game            2\n",
            "gore            2\n",
            "illustration    2\n",
            "indie           2\n",
            "massively       2\n",
            "modeling        2\n",
            "multiplayer     2\n",
            "nudity          2\n",
            "photo           2\n",
            "play            2\n",
            "production      2\n",
            "publishing      2\n",
            "racing          2\n",
            "rpg             2\n",
            "sexual          2\n",
            "simulation      2\n",
            "software        2\n",
            "sports          2\n",
            "strategy        2\n",
            "to              2\n",
            "training        2\n",
            "utilities       2\n",
            "video           2\n",
            "violent         2\n",
            "web             2\n",
            "dtype: int64\n"
          ]
        }
      ]
    },
    {
      "cell_type": "code",
      "source": [],
      "metadata": {
        "id": "IdeS3SxfVLhX"
      },
      "execution_count": null,
      "outputs": []
    }
  ]
}